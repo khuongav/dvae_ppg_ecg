{
 "cells": [
  {
   "cell_type": "code",
   "execution_count": 1,
   "metadata": {},
   "outputs": [],
   "source": [
    "import os\n",
    "import pickle"
   ]
  },
  {
   "cell_type": "code",
   "execution_count": 2,
   "metadata": {},
   "outputs": [],
   "source": [
    "def load_data(data_path):\n",
    "\n",
    "    ecg_subjects = []\n",
    "    ppg_subjects = []\n",
    "\n",
    "    for index in os.listdir(data_path):\n",
    "        index = index.split('.')[0]\n",
    "        with open('%s/%s.pkl' % (data_path, index), 'rb') as f:\n",
    "            patient = pickle.load(f)\n",
    "\n",
    "        ecg, ppg = patient['ecg'], patient['ppg']\n",
    "        ecg_subjects.append(ecg)\n",
    "        ppg_subjects.append(ppg)\n",
    "\n",
    "    return ecg_subjects, ppg_subjects"
   ]
  },
  {
   "cell_type": "code",
   "execution_count": 3,
   "metadata": {},
   "outputs": [],
   "source": [
    "ecg_subjects_healthy, ppg_subjects_healthy = load_data('healthy_data')\n",
    "ecg_subjects_afib, ppg_subjects_afib = load_data('afib_data')"
   ]
  }
 ],
 "metadata": {
  "kernelspec": {
   "display_name": "ekg3",
   "language": "python",
   "name": "python3"
  },
  "language_info": {
   "codemirror_mode": {
    "name": "ipython",
    "version": 3
   },
   "file_extension": ".py",
   "mimetype": "text/x-python",
   "name": "python",
   "nbconvert_exporter": "python",
   "pygments_lexer": "ipython3",
   "version": "3.7.13"
  },
  "orig_nbformat": 4
 },
 "nbformat": 4,
 "nbformat_minor": 2
}
